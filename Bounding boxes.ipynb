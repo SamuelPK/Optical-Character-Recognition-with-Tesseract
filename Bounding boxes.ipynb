{
 "cells": [
  {
   "cell_type": "code",
   "execution_count": 1,
   "id": "86afbb6d-0b94-4ea4-9814-17651358cd63",
   "metadata": {},
   "outputs": [],
   "source": [
    "import pytesseract\n",
    "import cv2"
   ]
  },
  {
   "cell_type": "code",
   "execution_count": 2,
   "id": "3be0a451-f35a-448f-860d-58f73e1fdef2",
   "metadata": {},
   "outputs": [],
   "source": [
    "image = cv2.imread(\"data/Screenshot (103).png\")\n",
    "base_image = image.copy()"
   ]
  },
  {
   "cell_type": "code",
   "execution_count": 3,
   "id": "9dad696c-41af-4101-8ccb-f6b4884c478f",
   "metadata": {},
   "outputs": [
    {
     "data": {
      "text/plain": [
       "True"
      ]
     },
     "execution_count": 3,
     "metadata": {},
     "output_type": "execute_result"
    }
   ],
   "source": [
    "gray = cv2.cvtColor(image, cv2.COLOR_BGR2GRAY) #Turning grayscale\n",
    "cv2.imwrite(\"temp/index_gray.png\", gray)"
   ]
  },
  {
   "cell_type": "code",
   "execution_count": null,
   "id": "b05b621b-8a43-4e3c-a9a0-29d3e59faf97",
   "metadata": {},
   "outputs": [],
   "source": []
  },
  {
   "cell_type": "code",
   "execution_count": 4,
   "id": "5f7819a8-a2b2-4ce4-9244-bd3ad8baa6b7",
   "metadata": {},
   "outputs": [
    {
     "data": {
      "text/plain": [
       "True"
      ]
     },
     "execution_count": 4,
     "metadata": {},
     "output_type": "execute_result"
    }
   ],
   "source": [
    "blur = cv2.GaussianBlur(gray, (5,5), 0) #Blurring #You can play parameters btw\n",
    "cv2.imwrite(\"temp/index_blur.png\", blur)"
   ]
  },
  {
   "cell_type": "code",
   "execution_count": null,
   "id": "55a39682-31d1-4a8f-a30a-9e0c80bc9620",
   "metadata": {},
   "outputs": [],
   "source": []
  },
  {
   "cell_type": "code",
   "execution_count": 5,
   "id": "1011ce5b-25bd-48ed-8706-ac46ac0a7770",
   "metadata": {},
   "outputs": [
    {
     "data": {
      "text/plain": [
       "True"
      ]
     },
     "execution_count": 5,
     "metadata": {},
     "output_type": "execute_result"
    }
   ],
   "source": [
    "thresh = cv2.threshold(blur, 0, 255, cv2.THRESH_BINARY_INV + cv2.THRESH_OTSU)[1]\n",
    "#Image thresholding, OTSU is a human who invented something about thresholding.\n",
    "cv2.imwrite(\"temp/index_thresh.png\", thresh)"
   ]
  },
  {
   "cell_type": "code",
   "execution_count": 6,
   "id": "84f1ef8c-b886-4557-9437-9e05289ad36f",
   "metadata": {},
   "outputs": [
    {
     "data": {
      "text/plain": [
       "\"Theory is that image has to be grayscale to set up threshold. So that you don't have to mess with RGB values. Grayscale is important.\""
      ]
     },
     "execution_count": 6,
     "metadata": {},
     "output_type": "execute_result"
    }
   ],
   "source": [
    "\"Theory is that image has to be grayscale to set up threshold. So that you don't have to mess with RGB values. Grayscale is important.\""
   ]
  },
  {
   "cell_type": "code",
   "execution_count": 7,
   "id": "8b1ad4ee-0346-4c25-9cd1-1a02c95a452e",
   "metadata": {},
   "outputs": [
    {
     "data": {
      "text/plain": [
       "True"
      ]
     },
     "execution_count": 7,
     "metadata": {},
     "output_type": "execute_result"
    }
   ],
   "source": [
    "kernal = cv2.getStructuringElement(cv2.MORPH_RECT, (5, 15))\n",
    "#defining kernel and its size. For bounding boxes, they should be square kinda.\n",
    "cv2.imwrite(\"temp/index_kernal.png\", kernal)"
   ]
  },
  {
   "cell_type": "code",
   "execution_count": null,
   "id": "657386c8-6e4d-4032-a6e1-59370290aea3",
   "metadata": {},
   "outputs": [],
   "source": []
  },
  {
   "cell_type": "code",
   "execution_count": 8,
   "id": "97cecb68-9c76-47d6-92a9-ac7da86163a5",
   "metadata": {},
   "outputs": [
    {
     "data": {
      "text/plain": [
       "True"
      ]
     },
     "execution_count": 8,
     "metadata": {},
     "output_type": "execute_result"
    }
   ],
   "source": [
    "dilate = cv2.dilate(thresh, kernal, iterations=2) #dilates the image\n",
    "cv2.imwrite(\"temp/index_dilate.png\", dilate)"
   ]
  },
  {
   "cell_type": "code",
   "execution_count": null,
   "id": "55df69cc-5111-4ea4-b073-507233313e59",
   "metadata": {},
   "outputs": [],
   "source": []
  },
  {
   "cell_type": "code",
   "execution_count": 9,
   "id": "1b744f97-10ee-424d-b34d-63ceee9e12b0",
   "metadata": {},
   "outputs": [],
   "source": [
    "cnts = cv2.findContours(dilate, cv2.RETR_EXTERNAL, cv2.CHAIN_APPROX_SIMPLE) #finding contour lines inside image\n",
    "cnts = cnts[0] if len(cnts) == 2 else cents[1]\n",
    "cnts = sorted(cnts, key=lambda x: cv2.boundingRect(x)[0])"
   ]
  },
  {
   "cell_type": "code",
   "execution_count": 14,
   "id": "14e297e7-5f6f-4c6a-863a-c74560ef5a5d",
   "metadata": {},
   "outputs": [
    {
     "data": {
      "text/plain": [
       "True"
      ]
     },
     "execution_count": 14,
     "metadata": {},
     "output_type": "execute_result"
    }
   ],
   "source": [
    "for c in cnts:\n",
    "    x, y, w, h = cv2.boundingRect(c)\n",
    "    if h > 20 and w > 20:\n",
    "        roi = image[y:y+h, x:x+h]\n",
    "        cv2.imwrite(\"temp/index_roi.png\", roi)\n",
    "        cv2.rectangle(image, (x, y), (x+w, y+h), (100, 0, 0), 5)\n",
    "cv2.imwrite(\"temp/index_bbox_new.png\", image)"
   ]
  },
  {
   "cell_type": "code",
   "execution_count": null,
   "id": "93b0b0ef-4d5f-4493-a0c6-fec4dbbbf9e0",
   "metadata": {},
   "outputs": [],
   "source": []
  },
  {
   "cell_type": "code",
   "execution_count": null,
   "id": "496a6650-6184-4c01-bfee-5ed9dcc0e418",
   "metadata": {},
   "outputs": [],
   "source": []
  },
  {
   "cell_type": "code",
   "execution_count": null,
   "id": "43ed5566-efa8-4cd7-a6e8-79e229da5cf6",
   "metadata": {},
   "outputs": [],
   "source": []
  }
 ],
 "metadata": {
  "kernelspec": {
   "display_name": "Python 3 (ipykernel)",
   "language": "python",
   "name": "python3"
  },
  "language_info": {
   "codemirror_mode": {
    "name": "ipython",
    "version": 3
   },
   "file_extension": ".py",
   "mimetype": "text/x-python",
   "name": "python",
   "nbconvert_exporter": "python",
   "pygments_lexer": "ipython3",
   "version": "3.9.9"
  }
 },
 "nbformat": 4,
 "nbformat_minor": 5
}
